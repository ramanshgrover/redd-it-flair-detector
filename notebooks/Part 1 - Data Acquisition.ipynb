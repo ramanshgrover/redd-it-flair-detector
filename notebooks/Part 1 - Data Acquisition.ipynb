{
 "cells": [
  {
   "cell_type": "markdown",
   "metadata": {},
   "source": [
    "# Reddit Data Extraction"
   ]
  },
  {
   "cell_type": "markdown",
   "metadata": {},
   "source": [
    "Deploying a bot to [r/India](https://www.reddit.com/r/India/ \"India: United We Stand\") for scraping posts in order to collect relevant data."
   ]
  },
  {
   "cell_type": "code",
   "execution_count": 1,
   "metadata": {},
   "outputs": [],
   "source": [
    "import praw\n",
    "import pprint\n",
    "import pandas as pd"
   ]
  },
  {
   "cell_type": "markdown",
   "metadata": {},
   "source": [
    "### Instantiating the PRAW API for data collection "
   ]
  },
  {
   "cell_type": "code",
   "execution_count": 2,
   "metadata": {},
   "outputs": [],
   "source": [
    "# instance and authentication of the Web App bot\n",
    "bot = praw.Reddit(client_id='td74lTDXbZJWoQ',\n",
    "                     client_secret='UD_Lp2-7JhCKMdxfOI5pUvSqTqU',\n",
    "                     redirect_uri='http://34.73.225.220:4444',\n",
    "                     user_agent='AantiNashonalBot')\n",
    "\n",
    "bot.read_only = True # A submission read-only bot\n",
    "subreddit = bot.subreddit('india')"
   ]
  },
  {
   "cell_type": "markdown",
   "metadata": {},
   "source": [
    "### Flairs present on r/India (As of April 2020)"
   ]
  },
  {
   "cell_type": "code",
   "execution_count": 3,
   "metadata": {},
   "outputs": [],
   "source": [
    "flairs = ['Politics', 'Photography', 'Policy/Economy', 'AskIndia', 'Sports', 'Non-Political', 'Scheduled', \n",
    "          'Science/Technology', 'Food', 'Business/Finance', 'Coronavirus', 'AMA', '[R]eddiquette']"
   ]
  },
  {
   "cell_type": "markdown",
   "metadata": {},
   "source": [
    "### Data Scraping\n",
    "I decided to scrape and sample my data flairwise in order to avoid class imbalance and found these features of a submission to be relevant and correlated to the flairs for classification. \n",
    "\n",
    "**Features:**\n",
    ">1. **\"body\"** : the submission self text\n",
    ">2. **\"comment\"** : top comments of every submission\n",
    ">3. **\"created\"** : timetamp for post creation (in UTC)\n",
    ">4. **\"id\"** : unique Base36 id to identify a submission\n",
    ">5. **\"title\"** : the title of the submission\n",
    ">6. **\"url\"** : the submission URL\n",
    ">7. **\"label\"** : The flair associated with the submission"
   ]
  },
  {
   "cell_type": "code",
   "execution_count": 4,
   "metadata": {},
   "outputs": [],
   "source": [
    "def sampled_flairwise(size):\n",
    "    sub_list = []\n",
    "\n",
    "    for flair in flairs:\n",
    "        sub_dict = {}\n",
    "        query = (\"flair:{}\").format(flair)\n",
    "        for submission in subreddit.search(query, limit=size):\n",
    "            \n",
    "            submission.comments.replace_more(limit=None)\n",
    "            comments = ''\n",
    "            for top_level_comment in submission.comments:\n",
    "                comments += top_level_comment.body\n",
    "            \n",
    "            sub_dict = {\n",
    "                \"body\" : submission.selftext,\n",
    "                \"comment\" : comments,\n",
    "                \"created\" : submission.created_utc,\n",
    "                \"id\" : submission.id,\n",
    "                \"title\" : submission.title, \n",
    "                \"url\" : submission.url,\n",
    "                \"label\" : submission.link_flair_text\n",
    "            }\n",
    "            sub_list.append(sub_dict)\n",
    "    \n",
    "    return sub_list"
   ]
  },
  {
   "cell_type": "code",
   "execution_count": 5,
   "metadata": {
    "scrolled": false
   },
   "outputs": [],
   "source": [
    "sub_list = sampled_flairwise(200)\n",
    "flairs_df = pd.DataFrame(sub_list)"
   ]
  },
  {
   "cell_type": "code",
   "execution_count": 6,
   "metadata": {},
   "outputs": [
    {
     "data": {
      "text/html": [
       "<div>\n",
       "<style scoped>\n",
       "    .dataframe tbody tr th:only-of-type {\n",
       "        vertical-align: middle;\n",
       "    }\n",
       "\n",
       "    .dataframe tbody tr th {\n",
       "        vertical-align: top;\n",
       "    }\n",
       "\n",
       "    .dataframe thead th {\n",
       "        text-align: right;\n",
       "    }\n",
       "</style>\n",
       "<table border=\"1\" class=\"dataframe\">\n",
       "  <thead>\n",
       "    <tr style=\"text-align: right;\">\n",
       "      <th></th>\n",
       "      <th>body</th>\n",
       "      <th>comment</th>\n",
       "      <th>created</th>\n",
       "      <th>id</th>\n",
       "      <th>title</th>\n",
       "      <th>url</th>\n",
       "      <th>label</th>\n",
       "    </tr>\n",
       "  </thead>\n",
       "  <tbody>\n",
       "    <tr>\n",
       "      <th>196</th>\n",
       "      <td>&gt;Hon’ble Shri Narendra Modi \\n&gt;Prime Minister ...</td>\n",
       "      <td>Modi: well now i'm not doing itRecently review...</td>\n",
       "      <td>1.585544e+09</td>\n",
       "      <td>frkhq3</td>\n",
       "      <td>Full text of Rahul Gandhi's letter to PM Modi ...</td>\n",
       "      <td>https://www.reddit.com/r/india/comments/frkhq3...</td>\n",
       "      <td>Politics</td>\n",
       "    </tr>\n",
       "    <tr>\n",
       "      <th>2018</th>\n",
       "      <td></td>\n",
       "      <td>May be the most affected section of society. A...</td>\n",
       "      <td>1.587216e+09</td>\n",
       "      <td>g3nbtp</td>\n",
       "      <td>Migrant Workers</td>\n",
       "      <td>https://i.redd.it/reea3tdntkt41.jpg</td>\n",
       "      <td>Coronavirus</td>\n",
       "    </tr>\n",
       "    <tr>\n",
       "      <th>67</th>\n",
       "      <td>After the shit show Janta curfew was, I didn’t...</td>\n",
       "      <td>I agree for most of it.\\n\\nI dissent on \"Gandh...</td>\n",
       "      <td>1.586102e+09</td>\n",
       "      <td>fvfsi0</td>\n",
       "      <td>No matter how much you hate Modi, you can’t de...</td>\n",
       "      <td>https://www.reddit.com/r/india/comments/fvfsi0...</td>\n",
       "      <td>Politics</td>\n",
       "    </tr>\n",
       "    <tr>\n",
       "      <th>1912</th>\n",
       "      <td></td>\n",
       "      <td></td>\n",
       "      <td>1.587712e+09</td>\n",
       "      <td>g73uhi</td>\n",
       "      <td>Mark Zuckerberg just gave Asia’s richest man a...</td>\n",
       "      <td>https://www.livemint.com/news/india/mark-zucke...</td>\n",
       "      <td>Business/Finance</td>\n",
       "    </tr>\n",
       "    <tr>\n",
       "      <th>2235</th>\n",
       "      <td>Hi, my name is Milan Vaishnav. I'm a senior fe...</td>\n",
       "      <td>Hi Milan, thanks so much for When Crime Pays! ...</td>\n",
       "      <td>1.543927e+09</td>\n",
       "      <td>a309io</td>\n",
       "      <td>Hi, I'm Milan Vaishnav and you can Ask Me Anyt...</td>\n",
       "      <td>https://www.reddit.com/r/india/comments/a309io...</td>\n",
       "      <td>AMA</td>\n",
       "    </tr>\n",
       "  </tbody>\n",
       "</table>\n",
       "</div>"
      ],
      "text/plain": [
       "                                                   body  \\\n",
       "196   >Hon’ble Shri Narendra Modi \\n>Prime Minister ...   \n",
       "2018                                                      \n",
       "67    After the shit show Janta curfew was, I didn’t...   \n",
       "1912                                                      \n",
       "2235  Hi, my name is Milan Vaishnav. I'm a senior fe...   \n",
       "\n",
       "                                                comment       created      id  \\\n",
       "196   Modi: well now i'm not doing itRecently review...  1.585544e+09  frkhq3   \n",
       "2018  May be the most affected section of society. A...  1.587216e+09  g3nbtp   \n",
       "67    I agree for most of it.\\n\\nI dissent on \"Gandh...  1.586102e+09  fvfsi0   \n",
       "1912                                                     1.587712e+09  g73uhi   \n",
       "2235  Hi Milan, thanks so much for When Crime Pays! ...  1.543927e+09  a309io   \n",
       "\n",
       "                                                  title  \\\n",
       "196   Full text of Rahul Gandhi's letter to PM Modi ...   \n",
       "2018                                    Migrant Workers   \n",
       "67    No matter how much you hate Modi, you can’t de...   \n",
       "1912  Mark Zuckerberg just gave Asia’s richest man a...   \n",
       "2235  Hi, I'm Milan Vaishnav and you can Ask Me Anyt...   \n",
       "\n",
       "                                                    url             label  \n",
       "196   https://www.reddit.com/r/india/comments/frkhq3...          Politics  \n",
       "2018                https://i.redd.it/reea3tdntkt41.jpg       Coronavirus  \n",
       "67    https://www.reddit.com/r/india/comments/fvfsi0...          Politics  \n",
       "1912  https://www.livemint.com/news/india/mark-zucke...  Business/Finance  \n",
       "2235  https://www.reddit.com/r/india/comments/a309io...               AMA  "
      ]
     },
     "execution_count": 6,
     "metadata": {},
     "output_type": "execute_result"
    }
   ],
   "source": [
    "flairs_df.sample(5)"
   ]
  },
  {
   "cell_type": "code",
   "execution_count": 7,
   "metadata": {},
   "outputs": [],
   "source": [
    "flairs_df.to_csv('data200.csv', index=False)"
   ]
  }
 ],
 "metadata": {
  "kernelspec": {
   "display_name": "Python 3",
   "language": "python",
   "name": "python3"
  },
  "language_info": {
   "codemirror_mode": {
    "name": "ipython",
    "version": 3
   },
   "file_extension": ".py",
   "mimetype": "text/x-python",
   "name": "python",
   "nbconvert_exporter": "python",
   "pygments_lexer": "ipython3",
   "version": "3.7.6"
  },
  "nbpresent": {
   "slides": {},
   "themes": {
    "default": "fa89e1b2-ff9c-4df5-bc88-4792d35c86b8",
    "theme": {
     "681b2b02-c3d6-48d0-9f4a-1a55c406e2e7": {
      "backgrounds": {
       "backgroundColor": {
        "background-color": "backgroundColor",
        "id": "backgroundColor"
       }
      },
      "id": "681b2b02-c3d6-48d0-9f4a-1a55c406e2e7",
      "palette": {
       "backgroundColor": {
        "id": "backgroundColor",
        "rgb": [
         253,
         246,
         227
        ]
       },
       "headingColor": {
        "id": "headingColor",
        "rgb": [
         88,
         110,
         117
        ]
       },
       "linkColor": {
        "id": "linkColor",
        "rgb": [
         38,
         139,
         210
        ]
       },
       "mainColor": {
        "id": "mainColor",
        "rgb": [
         101,
         123,
         131
        ]
       }
      },
      "rules": {
       "a": {
        "color": "linkColor"
       },
       "h1": {
        "color": "headingColor",
        "font-family": "Oswald",
        "font-size": 7
       },
       "h2": {
        "color": "headingColor",
        "font-family": "Oswald",
        "font-size": 5
       },
       "h3": {
        "color": "headingColor",
        "font-family": "Oswald",
        "font-size": 3.75
       },
       "h4": {
        "color": "headingColor",
        "font-family": "Oswald",
        "font-size": 3
       },
       "h5": {
        "color": "headingColor",
        "font-family": "Oswald"
       },
       "h6": {
        "color": "headingColor",
        "font-family": "Oswald"
       },
       "h7": {
        "color": "headingColor",
        "font-family": "Oswald"
       },
       "li": {
        "color": "mainColor",
        "font-family": "Lato",
        "font-size": 5
       },
       "p": {
        "color": "mainColor",
        "font-family": "Lato",
        "font-size": 5
       }
      },
      "text-base": {
       "color": "mainColor",
       "font-family": "Lato",
       "font-size": 5
      }
     },
     "86d83eb1-2deb-4bd4-bfcc-065efd0559dc": {
      "backgrounds": {
       "dc7afa04-bf90-40b1-82a5-726e3cff5267": {
        "background-color": "31af15d2-7e15-44c5-ab5e-e04b16a89eff",
        "id": "dc7afa04-bf90-40b1-82a5-726e3cff5267"
       }
      },
      "id": "86d83eb1-2deb-4bd4-bfcc-065efd0559dc",
      "palette": {
       "19cc588f-0593-49c9-9f4b-e4d7cc113b1c": {
        "id": "19cc588f-0593-49c9-9f4b-e4d7cc113b1c",
        "rgb": [
         252,
         252,
         252
        ]
       },
       "31af15d2-7e15-44c5-ab5e-e04b16a89eff": {
        "id": "31af15d2-7e15-44c5-ab5e-e04b16a89eff",
        "rgb": [
         68,
         68,
         68
        ]
       },
       "50f92c45-a630-455b-aec3-788680ec7410": {
        "id": "50f92c45-a630-455b-aec3-788680ec7410",
        "rgb": [
         197,
         226,
         245
        ]
       },
       "c5cc3653-2ee1-402a-aba2-7caae1da4f6c": {
        "id": "c5cc3653-2ee1-402a-aba2-7caae1da4f6c",
        "rgb": [
         43,
         126,
         184
        ]
       },
       "efa7f048-9acb-414c-8b04-a26811511a21": {
        "id": "efa7f048-9acb-414c-8b04-a26811511a21",
        "rgb": [
         25.118061674008803,
         73.60176211453744,
         107.4819383259912
        ]
       }
      },
      "rules": {
       "a": {
        "color": "19cc588f-0593-49c9-9f4b-e4d7cc113b1c"
       },
       "blockquote": {
        "color": "50f92c45-a630-455b-aec3-788680ec7410",
        "font-size": 3
       },
       "code": {
        "font-family": "Anonymous Pro"
       },
       "h1": {
        "color": "19cc588f-0593-49c9-9f4b-e4d7cc113b1c",
        "font-family": "Merriweather",
        "font-size": 8
       },
       "h2": {
        "color": "19cc588f-0593-49c9-9f4b-e4d7cc113b1c",
        "font-family": "Merriweather",
        "font-size": 6
       },
       "h3": {
        "color": "50f92c45-a630-455b-aec3-788680ec7410",
        "font-family": "Lato",
        "font-size": 5.5
       },
       "h4": {
        "color": "c5cc3653-2ee1-402a-aba2-7caae1da4f6c",
        "font-family": "Lato",
        "font-size": 5
       },
       "h5": {
        "font-family": "Lato"
       },
       "h6": {
        "font-family": "Lato"
       },
       "h7": {
        "font-family": "Lato"
       },
       "li": {
        "color": "50f92c45-a630-455b-aec3-788680ec7410",
        "font-size": 3.25
       },
       "pre": {
        "font-family": "Anonymous Pro",
        "font-size": 4
       }
      },
      "text-base": {
       "color": "19cc588f-0593-49c9-9f4b-e4d7cc113b1c",
       "font-family": "Lato",
       "font-size": 4
      }
     },
     "c800bbea-8cba-4d4b-82f9-e1d43a9f8935": {
      "backgrounds": {
       "backgroundColor": {
        "background-color": "backgroundColor",
        "id": "backgroundColor"
       }
      },
      "id": "c800bbea-8cba-4d4b-82f9-e1d43a9f8935",
      "palette": {
       "backgroundColor": {
        "id": "backgroundColor",
        "rgb": [
         253,
         246,
         227
        ]
       },
       "headingColor": {
        "id": "headingColor",
        "rgb": [
         88,
         110,
         117
        ]
       },
       "linkColor": {
        "id": "linkColor",
        "rgb": [
         38,
         139,
         210
        ]
       },
       "mainColor": {
        "id": "mainColor",
        "rgb": [
         101,
         123,
         131
        ]
       }
      },
      "rules": {
       "a": {
        "color": "linkColor"
       },
       "h1": {
        "color": "headingColor",
        "font-family": "Oswald",
        "font-size": 7
       },
       "h2": {
        "color": "headingColor",
        "font-family": "Oswald",
        "font-size": 5
       },
       "h3": {
        "color": "headingColor",
        "font-family": "Oswald",
        "font-size": 3.75
       },
       "h4": {
        "color": "headingColor",
        "font-family": "Oswald",
        "font-size": 3
       },
       "h5": {
        "color": "headingColor",
        "font-family": "Oswald"
       },
       "h6": {
        "color": "headingColor",
        "font-family": "Oswald"
       },
       "h7": {
        "color": "headingColor",
        "font-family": "Oswald"
       },
       "li": {
        "color": "mainColor",
        "font-family": "Lato",
        "font-size": 5
       },
       "p": {
        "color": "mainColor",
        "font-family": "Lato",
        "font-size": 5
       }
      },
      "text-base": {
       "color": "mainColor",
       "font-family": "Lato",
       "font-size": 5
      }
     },
     "fa89e1b2-ff9c-4df5-bc88-4792d35c86b8": {
      "backgrounds": {
       "backgroundColor": {
        "background-color": "backgroundColor",
        "id": "backgroundColor"
       }
      },
      "id": "fa89e1b2-ff9c-4df5-bc88-4792d35c86b8",
      "palette": {
       "backgroundColor": {
        "id": "backgroundColor",
        "rgb": [
         253,
         246,
         227
        ]
       },
       "headingColor": {
        "id": "headingColor",
        "rgb": [
         88,
         110,
         117
        ]
       },
       "linkColor": {
        "id": "linkColor",
        "rgb": [
         38,
         139,
         210
        ]
       },
       "mainColor": {
        "id": "mainColor",
        "rgb": [
         101,
         123,
         131
        ]
       }
      },
      "rules": {
       "a": {
        "color": "linkColor"
       },
       "h1": {
        "color": "headingColor",
        "font-family": "Oswald",
        "font-size": 7
       },
       "h2": {
        "color": "headingColor",
        "font-family": "Oswald",
        "font-size": 5
       },
       "h3": {
        "color": "headingColor",
        "font-family": "Oswald",
        "font-size": 3.75
       },
       "h4": {
        "color": "headingColor",
        "font-family": "Oswald",
        "font-size": 3
       },
       "h5": {
        "color": "headingColor",
        "font-family": "Oswald"
       },
       "h6": {
        "color": "headingColor",
        "font-family": "Oswald"
       },
       "h7": {
        "color": "headingColor",
        "font-family": "Oswald"
       },
       "li": {
        "color": "mainColor",
        "font-family": "Lato",
        "font-size": 5
       },
       "p": {
        "color": "mainColor",
        "font-family": "Lato",
        "font-size": 5
       }
      },
      "text-base": {
       "color": "mainColor",
       "font-family": "Lato",
       "font-size": 5
      }
     }
    }
   }
  }
 },
 "nbformat": 4,
 "nbformat_minor": 4
}
